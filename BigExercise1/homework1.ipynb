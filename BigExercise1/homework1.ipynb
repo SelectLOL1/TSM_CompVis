{
 "cells": [
  {
   "cell_type": "code",
   "execution_count": 1,
   "metadata": {},
   "outputs": [
    {
     "data": {
      "text/html": [
       "\n",
       "<style>\n",
       ".cell-output-ipywidget-background,\n",
       ".cell-output-ipywidget-background * {\n",
       "    background-color: transparent !important;\n",
       "    color: white !important;   /* make all text white */\n",
       "}\n",
       "</style>\n"
      ],
      "text/plain": [
       "<IPython.core.display.HTML object>"
      ]
     },
     "metadata": {},
     "output_type": "display_data"
    }
   ],
   "source": [
    "import numpy as np\n",
    "import cv2\n",
    "import os\n",
    "import matplotlib.pyplot as plt\n",
    "import ipywidgets as widgets\n",
    "\n",
    "%matplotlib inline\n",
    "#%matplotlib widget\n",
    "plt.rcParams['figure.facecolor'] = '#a9c3f3af'\n",
    "from IPython.display import HTML, display\n",
    "display(HTML(\"\"\"\n",
    "<style>\n",
    ".cell-output-ipywidget-background,\n",
    ".cell-output-ipywidget-background * {\n",
    "    background-color: transparent !important;\n",
    "    color: white !important;   /* make all text white */\n",
    "}\n",
    "</style>\n",
    "\"\"\"))\n",
    "\n",
    "import sympy as sp\n",
    "from PIL import Image"
   ]
  },
  {
   "cell_type": "code",
   "execution_count": 2,
   "metadata": {},
   "outputs": [],
   "source": [
    "folder = \"imgs/\""
   ]
  },
  {
   "cell_type": "code",
   "execution_count": 3,
   "metadata": {},
   "outputs": [
    {
     "data": {
      "text/plain": [
       "(np.int64(844), np.int64(1126), np.int64(3))"
      ]
     },
     "execution_count": 3,
     "metadata": {},
     "output_type": "execute_result"
    }
   ],
   "source": [
    "arr = [cv2.imread(folder+file) for file in sorted(os.listdir(folder)) if file.endswith('.png') or file.endswith('.jpg')]\n",
    "arr[1].shape\n",
    "\n",
    "# images dont have the same shape!!! Resize them to the largest one\n",
    "max_shape = np.max([img.shape for img in arr], axis=0)\n",
    "\n",
    "shape_scaler = 2\n",
    "\n",
    "max_shape = (max_shape[0]*shape_scaler, max_shape[1]*shape_scaler, max_shape[2])  # drop channels\n",
    "\n",
    "max_shape\n"
   ]
  },
  {
   "cell_type": "code",
   "execution_count": 4,
   "metadata": {},
   "outputs": [],
   "source": [
    "resized_images = [cv2.resize(img, (max_shape[1], max_shape[0])) for img in arr]"
   ]
  },
  {
   "cell_type": "code",
   "execution_count": 5,
   "metadata": {},
   "outputs": [],
   "source": [
    "images = np.array(resized_images)"
   ]
  },
  {
   "cell_type": "code",
   "execution_count": 6,
   "metadata": {},
   "outputs": [],
   "source": [
    "gray_images = np.array([cv2.cvtColor(img, cv2.COLOR_RGB2GRAY) for img in images])"
   ]
  },
  {
   "cell_type": "code",
   "execution_count": 7,
   "metadata": {},
   "outputs": [],
   "source": [
    "# fix widget height so it doesnt jump around\n",
    "out = widgets.Output(layout={'height': '500px', 'width': '600px'})\n",
    "\n",
    "def image_viewer(color_imgs, gray_imgs):\n",
    "    @widgets.interact(image_nr=(0, len(color_imgs)-1, 1))\n",
    "    def _viewer(image_nr=0):\n",
    "        with out:\n",
    "            out.clear_output(wait=True)\n",
    "            fig, ax = plt.subplots(1, 2, figsize=(6, 4))\n",
    "            ax[0].imshow(color_imgs[image_nr])\n",
    "            ax[0].axis(\"off\")\n",
    "            ax[0].set_title(\"Color Image\")\n",
    "            ax[1].imshow(gray_imgs[image_nr], cmap='gray')\n",
    "            ax[1].axis(\"off\")\n",
    "            ax[1].set_title(\"Grayscale Image\")\n",
    "            plt.show()"
   ]
  },
  {
   "cell_type": "code",
   "execution_count": 8,
   "metadata": {},
   "outputs": [
    {
     "data": {
      "application/vnd.jupyter.widget-view+json": {
       "model_id": "3f6c399f908343dea6a43cbdac2aee34",
       "version_major": 2,
       "version_minor": 0
      },
      "text/plain": [
       "interactive(children=(IntSlider(value=0, description='image_nr', max=3), Output()), _dom_classes=('widget-inte…"
      ]
     },
     "metadata": {},
     "output_type": "display_data"
    },
    {
     "data": {
      "application/vnd.jupyter.widget-view+json": {
       "model_id": "0fcfd0da28b0413897cdfb3e1e6a808d",
       "version_major": 2,
       "version_minor": 0
      },
      "text/plain": [
       "Output(layout=Layout(height='500px', width='600px'))"
      ]
     },
     "metadata": {},
     "output_type": "display_data"
    }
   ],
   "source": [
    "image_viewer(color_imgs=images, gray_imgs=gray_images)\n",
    "display(out)"
   ]
  },
  {
   "cell_type": "code",
   "execution_count": 9,
   "metadata": {},
   "outputs": [
    {
     "data": {
      "application/vnd.jupyter.widget-view+json": {
       "model_id": "a2f1037e5ce348bda0e92cd85181999b",
       "version_major": 2,
       "version_minor": 0
      },
      "text/plain": [
       "interactive(children=(IntSlider(value=0, description='image_nr', max=3), IntSlider(value=63, description='thre…"
      ]
     },
     "metadata": {},
     "output_type": "display_data"
    }
   ],
   "source": [
    "@widgets.interact(\n",
    "    image_nr=(0, len(gray_images) - 1, 1),\n",
    "    threshold1=(0, 255, 1),\n",
    "    threshold2=(0, 255, 1)\n",
    ")\n",
    "def edge_viewer(image_nr=0, threshold1=63, threshold2=109):\n",
    "    global edge_imags\n",
    "    edge_imags = [(cv2.Canny(gray_img, threshold1, threshold2)) for gray_img in gray_images]\n",
    "\n",
    "    fix, ax = plt.subplots(1, 1, figsize=(6, 4))\n",
    "    ax.imshow(edge_imags[image_nr], cmap='gray')\n",
    "    ax.axis(\"off\")\n",
    "    plt.show()"
   ]
  },
  {
   "cell_type": "code",
   "execution_count": 10,
   "metadata": {},
   "outputs": [
    {
     "data": {
      "application/vnd.jupyter.widget-view+json": {
       "model_id": "560e500ee29e42c6b8bcfe674259e62a",
       "version_major": 2,
       "version_minor": 0
      },
      "text/plain": [
       "interactive(children=(IntSlider(value=103, description='threshold', max=500), IntSlider(value=1, description='…"
      ]
     },
     "metadata": {},
     "output_type": "display_data"
    }
   ],
   "source": [
    "@widgets.interact(threshold=(0, 500, 1), img_nr=(0, len(edge_imags)-1, 1))\n",
    "def hough_line_viewer(threshold=103, img_nr=1):\n",
    "    global lines\n",
    "    lines = cv2.HoughLines(edge_imags[img_nr], 1, np.pi / 180, threshold)  # img, rho_res (pixels), theta_res (radians), threshold (min votes for accumulator)\n",
    "\n",
    "    img_copy = images[img_nr].copy()  # Create a copy to avoid modifying the original image\n",
    "    if lines is not None:\n",
    "        diag = int(np.hypot(img_copy.shape[0], img_copy.shape[1]))  # image diagonal\n",
    "        for line in lines:\n",
    "            rho, theta = line[0]\n",
    "            a = np.cos(theta)\n",
    "            b = np.sin(theta)\n",
    "            x0 = a * rho\n",
    "            y0 = b * rho\n",
    "            x1 = int(x0 + diag * (-b))\n",
    "            y1 = int(y0 + diag * (a))\n",
    "            x2 = int(x0 - diag * (-b))\n",
    "            y2 = int(y0 - diag * (a))\n",
    "            cv2.line(img_copy, (x1, y1), (x2, y2), (0, 0, 255), 2)\n",
    "\n",
    "    plt.imshow(img_copy)\n",
    "    plt.axis(\"off\")\n",
    "    plt.show()\n"
   ]
  },
  {
   "cell_type": "code",
   "execution_count": 11,
   "metadata": {},
   "outputs": [
    {
     "data": {
      "text/plain": [
       "np.float32(671.0)"
      ]
     },
     "execution_count": 11,
     "metadata": {},
     "output_type": "execute_result"
    }
   ],
   "source": [
    "lines[0][0][0]"
   ]
  },
  {
   "cell_type": "code",
   "execution_count": 12,
   "metadata": {},
   "outputs": [
    {
     "data": {
      "text/latex": [
       "$\\displaystyle \\left[\\begin{matrix}\\cos{\\left(\\theta \\right)}\\\\\\sin{\\left(\\theta \\right)}\\end{matrix}\\right]$"
      ],
      "text/plain": [
       "Matrix([\n",
       "[cos(theta)],\n",
       "[sin(theta)]])"
      ]
     },
     "execution_count": 12,
     "metadata": {},
     "output_type": "execute_result"
    }
   ],
   "source": [
    "# create smpy vector v1\n",
    "v = sp.Matrix([sp.cos(sp.symbols('theta')), sp.sin(sp.symbols('theta'))])\n",
    "v"
   ]
  },
  {
   "cell_type": "code",
   "execution_count": 13,
   "metadata": {},
   "outputs": [
    {
     "data": {
      "text/latex": [
       "$\\displaystyle \\left[\\begin{matrix}670.08\\\\35.1174\\end{matrix}\\right]$"
      ],
      "text/plain": [
       "Matrix([\n",
       "[ 670.08],\n",
       "[35.1174]])"
      ]
     },
     "execution_count": 13,
     "metadata": {},
     "output_type": "execute_result"
    }
   ],
   "source": [
    "v1 = v.subs(sp.symbols('theta'), lines[0][0][1]) * lines[0][0][0]\n",
    "v1"
   ]
  },
  {
   "cell_type": "code",
   "execution_count": 14,
   "metadata": {},
   "outputs": [
    {
     "data": {
      "text/latex": [
       "$\\displaystyle \\left[\\begin{matrix}-47.9227\\\\685.327\\end{matrix}\\right]$"
      ],
      "text/plain": [
       "Matrix([\n",
       "[-47.9227],\n",
       "[ 685.327]])"
      ]
     },
     "execution_count": 14,
     "metadata": {},
     "output_type": "execute_result"
    }
   ],
   "source": [
    "v2 = v.subs(sp.symbols('theta'), lines[2][0][1]) * lines[2][0][0]\n",
    "v2"
   ]
  },
  {
   "cell_type": "code",
   "execution_count": 15,
   "metadata": {},
   "outputs": [
    {
     "data": {
      "text/plain": [
       "[]"
      ]
     },
     "execution_count": 15,
     "metadata": {},
     "output_type": "execute_result"
    },
    {
     "data": {
      "image/png": "[encoded data removed]",
      "text/plain": [
       "<Figure size 640x480 with 1 Axes>"
      ]
     },
     "metadata": {},
     "output_type": "display_data"
    }
   ],
   "source": [
    "# draw the vectors to see if they are orthogonal\n",
    "# one should check if the rho and theta are similar\n",
    "# if so skipt those, since its probably the same line\n",
    "origin = np.array([[0, 0], [0, 0]])  # origin point\n",
    "v1_np = np.array(v1).astype(np.float64).flatten()  # Convert v1 to a numpy array\n",
    "v2_np = np.array(v2).astype(np.float64).flatten()  # Convert v2 to a numpy array\n",
    "plt.quiver(*origin, [v1_np[0], v2_np[0]], [v1_np[1], v2_np[1]], color=['r', 'b'], angles='xy', scale_units='xy', scale=1)\n",
    "plt.xlim(-500, 500)\n",
    "plt.ylim(-500, 500)\n",
    "plt.grid()\n",
    "plt.plot()"
   ]
  },
  {
   "cell_type": "code",
   "execution_count": 16,
   "metadata": {},
   "outputs": [
    {
     "data": {
      "text/latex": [
       "$\\displaystyle \\left[\\begin{matrix}670.08 - 0.052336 \\lambda_{1}\\\\0.99863 \\lambda_{1} + 35.1174\\end{matrix}\\right]$"
      ],
      "text/plain": [
       "Matrix([\n",
       "[670.08 - 0.052336*lambda1],\n",
       "[0.99863*lambda1 + 35.1174]])"
      ]
     },
     "execution_count": 16,
     "metadata": {},
     "output_type": "execute_result"
    }
   ],
   "source": [
    "l1 = v1 + sp.Matrix([-sp.sin(sp.symbols('theta')), sp.cos(sp.symbols('theta'))]) * sp.symbols('lambda1')\n",
    "l1 = l1.subs(sp.symbols('theta'), lines[0][0][1])\n",
    "l1"
   ]
  },
  {
   "cell_type": "code",
   "execution_count": 17,
   "metadata": {},
   "outputs": [
    {
     "data": {
      "text/latex": [
       "$\\displaystyle \\left[\\begin{matrix}- 0.997564 \\lambda_{2} - 47.9227\\\\685.327 - 0.0697565 \\lambda_{2}\\end{matrix}\\right]$"
      ],
      "text/plain": [
       "Matrix([\n",
       "[-0.997564*lambda2 - 47.9227],\n",
       "[685.327 - 0.0697565*lambda2]])"
      ]
     },
     "execution_count": 17,
     "metadata": {},
     "output_type": "execute_result"
    }
   ],
   "source": [
    "l2 = v2 + sp.Matrix([-sp.sin(sp.symbols('theta')), sp.cos(sp.symbols('theta'))]) * sp.symbols('lambda2')\n",
    "l2 = l2.subs(sp.symbols('theta'), lines[2][0][1])\n",
    "l2"
   ]
  },
  {
   "cell_type": "code",
   "execution_count": 18,
   "metadata": {},
   "outputs": [
    {
     "data": {
      "text/latex": [
       "$\\displaystyle \\left[\\begin{matrix}670.08 - 0.052336 \\lambda_{1}\\\\0.99863 \\lambda_{1} + 35.1174\\end{matrix}\\right] = \\left[\\begin{matrix}- 0.997564 \\lambda_{2} - 47.9227\\\\685.327 - 0.0697565 \\lambda_{2}\\end{matrix}\\right]$"
      ],
      "text/plain": [
       "Eq(Matrix([\n",
       "[670.08 - 0.052336*lambda1],\n",
       "[0.99863*lambda1 + 35.1174]]), Matrix([\n",
       "[-0.997564*lambda2 - 47.9227],\n",
       "[685.327 - 0.0697565*lambda2]]))"
      ]
     },
     "execution_count": 18,
     "metadata": {},
     "output_type": "execute_result"
    }
   ],
   "source": [
    "# create sympy equation system\n",
    "eq1 = sp.Eq(l1, l2)\n",
    "eq1"
   ]
  },
  {
   "cell_type": "code",
   "execution_count": 19,
   "metadata": {},
   "outputs": [
    {
     "data": {
      "text/plain": [
       "{lambda1: 698.816607951428, lambda2: -683.093750382185}"
      ]
     },
     "execution_count": 19,
     "metadata": {},
     "output_type": "execute_result"
    }
   ],
   "source": [
    "# solve the equation system\n",
    "solution = sp.solve(eq1, (sp.symbols('lambda1'), sp.symbols('lambda2')))\n",
    "solution"
   ]
  },
  {
   "cell_type": "code",
   "execution_count": 20,
   "metadata": {},
   "outputs": [
    {
     "data": {
      "text/plain": [
       "[]"
      ]
     },
     "execution_count": 20,
     "metadata": {},
     "output_type": "execute_result"
    },
    {
     "data": {
      "image/png": "[encoded data removed]",
      "text/plain": [
       "<Figure size 800x800 with 1 Axes>"
      ]
     },
     "metadata": {},
     "output_type": "display_data"
    }
   ],
   "source": [
    "# draw l1 and l2\n",
    "lambda1, lambda2 = sp.symbols('lambda1 lambda2')\n",
    "lambda1_vals = np.linspace(-1000, 1000, 100)\n",
    "lambda2_vals = np.linspace(-1000, 1000, 100)\n",
    "plt.figure(figsize=(8, 8))\n",
    "for lam1 in lambda1_vals:\n",
    "    point = np.array(l1.subs(lambda1, lam1)).astype(np.float64).flatten()\n",
    "    plt.plot(point[0], point[1], 'r.')\n",
    "for lam2 in lambda2_vals:\n",
    "    point = np.array(l2.subs(lambda2, lam2)).astype(np.float64).flatten()\n",
    "    plt.plot(point[0], point[1], 'b.')\n",
    "#plt.xlim(-500, 500)\n",
    "#plt.ylim(-500, 500)\n",
    "\n",
    "# add the calculated intersection point\n",
    "intersection_point = np.array(l1.subs(lambda1, solution[sp.symbols('lambda1')])).astype(np.float64).flatten()\n",
    "plt.plot(intersection_point[0], intersection_point[1], 'go', markersize=10)\n",
    "\n",
    "plt.grid()\n",
    "plt.plot()"
   ]
  }
 ],
 "metadata": {
  "kernelspec": {
   "display_name": ".venv",
   "language": "python",
   "name": "python3"
  },
  "language_info": {
   "codemirror_mode": {
    "name": "ipython",
    "version": 3
   },
   "file_extension": ".py",
   "mimetype": "text/x-python",
   "name": "python",
   "nbconvert_exporter": "python",
   "pygments_lexer": "ipython3",
   "version": "3.11.13"
  }
 },
 "nbformat": 4,
 "nbformat_minor": 2
}
